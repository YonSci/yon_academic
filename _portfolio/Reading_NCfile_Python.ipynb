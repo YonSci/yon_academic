{
 "cells": [
  {
   "cell_type": "markdown",
   "metadata": {},
   "source": [
    "### Imporing the netCDF4 library"
   ]
  },
  {
   "cell_type": "code",
   "execution_count": 1,
   "metadata": {},
   "outputs": [],
   "source": [
    "import netCDF4 as nc"
   ]
  },
  {
   "cell_type": "markdown",
   "metadata": {},
   "source": [
    "### Import the nc file"
   ]
  },
  {
   "cell_type": "code",
   "execution_count": 2,
   "metadata": {},
   "outputs": [],
   "source": [
    "nc_file = 'CLM_surface_Dataset.nc'"
   ]
  },
  {
   "cell_type": "markdown",
   "metadata": {},
   "source": [
    "### Reading the nc file as a dataset"
   ]
  },
  {
   "cell_type": "code",
   "execution_count": 3,
   "metadata": {},
   "outputs": [],
   "source": [
    "ds = nc.Dataset(nc_file)"
   ]
  },
  {
   "cell_type": "markdown",
   "metadata": {},
   "source": [
    "### Printing the dataset gives information about the data and meta data information"
   ]
  },
  {
   "cell_type": "code",
   "execution_count": 4,
   "metadata": {},
   "outputs": [
    {
     "name": "stdout",
     "output_type": "stream",
     "text": [
      "<class 'netCDF4._netCDF4.Dataset'>\n",
      "root group (NETCDF4 data model, file format HDF5):\n",
      "    title: CLM_Surface_Dataset for 1degree Resolution\n",
      "    source: \tCommunity Land Model 4.5\n",
      "    summary: Surface_dataset\n",
      "    conventions: CF-1.6\n",
      "    platform: Model\n",
      "    institution: Addis Ababa University(AAU),Ethiopian Institute of Water Resources(EIWR)\n",
      "    dimensions(sizes): lat(6), lon(4), levsoi(10), natpft(15), cft(2), time(12), lsmpft(17), numurbl(3), numrad(2), nlevurb(5), nglcecp1(11), nglcec(10)\n",
      "    variables(dimensions): int64 SOIL_COLOR(lat,lon), float64 PCT_SAND(levsoi,lat,lon), float64 PCT_CLAY(levsoi,lat,lon), float64 ORGANIC(levsoi,lat,lon), float64 FMAX(lat,lon), float64 LANDFRAC_PFT(lat,lon), int64 PFTDATA_MASK(lat,lon), float64 PCT_NATVEG(lat,lon), float64 PCT_CROP(lat,lon), float64 PCT_NAT_PFT(natpft,lat,lon), float64 PCT_CFT(cft,lat,lon), float64 MONTHLY_LAI(time,lsmpft,lat,lon), float64 MONTHLY_SAI(time,lsmpft,lat,lon), float64 MONTHLY_HEIGHT_TOP(time,lsmpft,lat,lon), float64 MONTHLY_HEIGHT_BOT(time,lsmpft,lat,lon), float64 AREA(lat,lon), float64 LONGXY(lat,lon), float64 LATIXY(lat,lon), float64 EF1_BTR(lat,lon), float64 EF1_FET(lat,lon), float64 EF1_FDT(lat,lon), float64 EF1_SHR(lat,lon), float64 EF1_GRS(lat,lon), float64 EF1_CRP(lat,lon), float64 CANYON_HWR(numurbl,lat,lon), float64 EM_IMPROAD(numurbl,lat,lon), float64 EM_PERROAD(numurbl,lat,lon), float64 EM_ROOF(numurbl,lat,lon), float64 EM_WALL(numurbl,lat,lon), float64 HT_ROOF(numurbl,lat,lon), float64 THICK_ROOF(numurbl,lat,lon), float64 THICK_WALL(numurbl,lat,lon), float64 T_BUILDING_MIN(numurbl,lat,lon), float64 WIND_HGT_CANYON(numurbl,lat,lon), float64 WTLUNIT_ROOF(numurbl,lat,lon), float64 WTROAD_PERV(numurbl,lat,lon), float64 ALB_IMPROAD_DIR(numrad,numurbl,lat,lon), float64 ALB_IMPROAD_DIF(numrad,numurbl,lat,lon), float64 ALB_PERROAD_DIR(numrad,numurbl,lat,lon), float64 ALB_PERROAD_DIF(numrad,numurbl,lat,lon), float64 ALB_ROOF_DIR(numrad,numurbl,lat,lon), float64 ALB_ROOF_DIF(numrad,numurbl,lat,lon), float64 ALB_WALL_DIR(numrad,numurbl,lat,lon), float64 ALB_WALL_DIF(numrad,numurbl,lat,lon), float64 TK_ROOF(nlevurb,numurbl,lat,lon), float64 TK_WALL(nlevurb,numurbl,lat,lon), float64 TK_IMPROAD(nlevurb,numurbl,lat,lon), float64 CV_ROOF(nlevurb,numurbl,lat,lon), float64 CV_WALL(nlevurb,numurbl,lat,lon), float64 CV_IMPROAD(nlevurb,numurbl,lat,lon), int64 NLEV_IMPROAD(numurbl,lat,lon), float64 peatf(lat,lon), float64 zbedrock(lat,lon), int64 abm(lat,lon), float64 gdp(lat,lon), float64 SLOPE(lat,lon), float64 STD_ELEV(lat,lon), float64 LAKEDEPTH(lat,lon), float64 PCT_WETLAND(lat,lon), float64 PCT_LAKE(lat,lon), float64 PCT_GLACIER(lat,lon), float64 GLACIER_REGION(lat,lon), float64 GLC_MEC(nglcecp1), float64 PCT_GLC_MEC(nglcec,lat,lon), float64 TOPO_GLC_MEC(nglcec,lat,lon), float64 PCT_URBAN(numurbl,lat,lon), int64 URBAN_REGION_ID(lat,lon), float64 CONST_HARVEST_VH1(lat,lon), float64 CONST_HARVEST_VH2(lat,lon), float64 CONST_HARVEST_SH1(lat,lon), float64 CONST_HARVEST_SH2(lat,lon), float64 CONST_HARVEST_SH3(lat,lon), float64 CONST_GRAZING(lat,lon), float64 CONST_FERTNITRO_CFT(cft,lat,lon), float64 UNREPRESENTED_PFT_LULCC(natpft,lat,lon), float64 UNREPRESENTED_CFT_LULCC(cft,lat,lon), float64 lat(lat), float64 lon(lon), int64 levsoi(levsoi), int64 natpft(natpft), int64 cft(cft), int64 time(time), int64 lsmpft(lsmpft), int64 numurbl(numurbl), int64 numrad(numrad), int64 nlevurb(nlevurb), int64 nglcecp1(nglcecp1), int64 nglcec(nglcec)\n",
      "    groups: \n"
     ]
    },
    {
     "name": "stderr",
     "output_type": "stream",
     "text": [
      "<ipython-input-4-9dc01b7df118>:1: DeprecationWarning: tostring() is deprecated. Use tobytes() instead.\n",
      "  print(ds)\n"
     ]
    }
   ],
   "source": [
    "print(ds)"
   ]
  },
  {
   "cell_type": "markdown",
   "metadata": {},
   "source": [
    "### Metadata can also be accessed as a `Python dictionary`"
   ]
  },
  {
   "cell_type": "code",
   "execution_count": 5,
   "metadata": {},
   "outputs": [
    {
     "name": "stdout",
     "output_type": "stream",
     "text": [
      "{'title': 'CLM_Surface_Dataset for 1degree Resolution', 'source': '\\tCommunity Land Model 4.5', 'summary': 'Surface_dataset', 'conventions': 'CF-1.6', 'platform': 'Model', 'institution': 'Addis Ababa University(AAU),Ethiopian Institute of Water Resources(EIWR)'}\n"
     ]
    },
    {
     "name": "stderr",
     "output_type": "stream",
     "text": [
      "<ipython-input-5-afe8d575cf7c>:1: DeprecationWarning: tostring() is deprecated. Use tobytes() instead.\n",
      "  print(ds.__dict__)\n"
     ]
    }
   ],
   "source": [
    "print(ds.__dict__)"
   ]
  },
  {
   "cell_type": "markdown",
   "metadata": {},
   "source": [
    "### Each metadata items can be acessed: "
   ]
  },
  {
   "cell_type": "code",
   "execution_count": 6,
   "metadata": {},
   "outputs": [
    {
     "name": "stderr",
     "output_type": "stream",
     "text": [
      "<ipython-input-6-4ba7033a33c5>:1: DeprecationWarning: tostring() is deprecated. Use tobytes() instead.\n",
      "  print(ds.__dict__['title'])\n",
      "<ipython-input-6-4ba7033a33c5>:2: DeprecationWarning: tostring() is deprecated. Use tobytes() instead.\n",
      "  print(ds.__dict__['summary'])\n"
     ]
    },
    {
     "name": "stdout",
     "output_type": "stream",
     "text": [
      "CLM_Surface_Dataset for 1degree Resolution\n",
      "Surface_dataset\n",
      "CF-1.6\n"
     ]
    },
    {
     "name": "stderr",
     "output_type": "stream",
     "text": [
      "<ipython-input-6-4ba7033a33c5>:3: DeprecationWarning: tostring() is deprecated. Use tobytes() instead.\n",
      "  print(ds.__dict__['conventions'])\n"
     ]
    }
   ],
   "source": [
    "print(ds.__dict__['title'])\n",
    "print(ds.__dict__['summary'])\n",
    "print(ds.__dict__['conventions'])"
   ]
  },
  {
   "cell_type": "markdown",
   "metadata": {},
   "source": [
    "###  Dimensional variables can be viwed  as:"
   ]
  },
  {
   "cell_type": "code",
   "execution_count": 7,
   "metadata": {},
   "outputs": [
    {
     "name": "stderr",
     "output_type": "stream",
     "text": [
      "<ipython-input-7-5a8b7615d7a2>:2: DeprecationWarning: tostring() is deprecated. Use tobytes() instead.\n",
      "  print(dim)\n"
     ]
    },
    {
     "name": "stdout",
     "output_type": "stream",
     "text": [
      "<class 'netCDF4._netCDF4.Dimension'>: name = 'lat', size = 6\n",
      "<class 'netCDF4._netCDF4.Dimension'>: name = 'lon', size = 4\n",
      "<class 'netCDF4._netCDF4.Dimension'>: name = 'levsoi', size = 10\n",
      "<class 'netCDF4._netCDF4.Dimension'>: name = 'natpft', size = 15\n",
      "<class 'netCDF4._netCDF4.Dimension'>: name = 'cft', size = 2\n",
      "<class 'netCDF4._netCDF4.Dimension'>: name = 'time', size = 12\n",
      "<class 'netCDF4._netCDF4.Dimension'>: name = 'lsmpft', size = 17\n",
      "<class 'netCDF4._netCDF4.Dimension'>: name = 'numurbl', size = 3\n",
      "<class 'netCDF4._netCDF4.Dimension'>: name = 'numrad', size = 2\n",
      "<class 'netCDF4._netCDF4.Dimension'>: name = 'nlevurb', size = 5\n",
      "<class 'netCDF4._netCDF4.Dimension'>: name = 'nglcecp1', size = 11\n",
      "<class 'netCDF4._netCDF4.Dimension'>: name = 'nglcec', size = 10\n"
     ]
    }
   ],
   "source": [
    "for dim in ds.dimensions.values():\n",
    "    print(dim)"
   ]
  },
  {
   "cell_type": "markdown",
   "metadata": {},
   "source": [
    "### Assessing individual dimensional variables  "
   ]
  },
  {
   "cell_type": "code",
   "execution_count": 8,
   "metadata": {},
   "outputs": [
    {
     "data": {
      "text/plain": [
       "<class 'netCDF4._netCDF4.Dimension'>: name = 'lat', size = 6"
      ]
     },
     "execution_count": 8,
     "metadata": {},
     "output_type": "execute_result"
    }
   ],
   "source": [
    "ds.dimensions['lat']"
   ]
  },
  {
   "cell_type": "markdown",
   "metadata": {},
   "source": [
    "### Individual dimensional variables can accessed:"
   ]
  },
  {
   "cell_type": "code",
   "execution_count": 9,
   "metadata": {},
   "outputs": [
    {
     "data": {
      "text/plain": [
       "<class 'netCDF4._netCDF4.Dimension'>: name = 'lat', size = 6"
      ]
     },
     "execution_count": 9,
     "metadata": {},
     "output_type": "execute_result"
    }
   ],
   "source": [
    "ds.dimensions['lat']"
   ]
  },
  {
   "cell_type": "code",
   "execution_count": 10,
   "metadata": {},
   "outputs": [
    {
     "data": {
      "text/plain": [
       "<class 'netCDF4._netCDF4.Dimension'>: name = 'lon', size = 4"
      ]
     },
     "execution_count": 10,
     "metadata": {},
     "output_type": "execute_result"
    }
   ],
   "source": [
    "ds.dimensions['lon']"
   ]
  },
  {
   "cell_type": "markdown",
   "metadata": {},
   "source": [
    "###  Each d        ata variables can accessed as follow:"
   ]
  },
  {
   "cell_type": "code",
   "execution_count": 11,
   "metadata": {},
   "outputs": [
    {
     "name": "stdout",
     "output_type": "stream",
     "text": [
      "<class 'netCDF4._netCDF4.Variable'>\n",
      "int64 SOIL_COLOR(lat, lon)\n",
      "    units: unitless\n",
      "    long_name: soil layers\n",
      "    standard_name: soil layers\n",
      "unlimited dimensions: \n",
      "current shape = (6, 4)\n",
      "filling on, default _FillValue of -9223372036854775806 used\n",
      "<class 'netCDF4._netCDF4.Variable'>\n",
      "float64 PCT_SAND(levsoi, lat, lon)\n",
      "    _FillValue: nan\n",
      "    units: unitless\n",
      "    long_name: percent sand\n",
      "    standard_name: percent sand\n",
      "unlimited dimensions: \n",
      "current shape = (10, 6, 4)\n",
      "filling on\n",
      "<class 'netCDF4._netCDF4.Variable'>\n",
      "float64 PCT_CLAY(levsoi, lat, lon)\n",
      "    _FillValue: nan\n",
      "    units: unitless\n",
      "    long_name: percent clay\n",
      "    standard_name: percent clay\n",
      "unlimited dimensions: \n",
      "current shape = (10, 6, 4)\n",
      "filling on\n",
      "<class 'netCDF4._netCDF4.Variable'>\n",
      "float64 ORGANIC(levsoi, lat, lon)\n",
      "    _FillValue: nan\n",
      "    units: kg/m3 (assumed carbon content 0.58 gC per gOM)\n",
      "    long_name: organic matter density at soil levels\n",
      "    standard_name: organic matter density at soil levels\n",
      "unlimited dimensions: \n",
      "current shape = (10, 6, 4)\n",
      "filling on\n",
      "<class 'netCDF4._netCDF4.Variable'>\n",
      "float64 FMAX(lat, lon)\n",
      "    _FillValue: nan\n",
      "    units: unitless\n",
      "    long_name: maximum fractional saturated area\n",
      "    standard_name: maximum fractional saturated area\n",
      "unlimited dimensions: \n",
      "current shape = (6, 4)\n",
      "filling on\n",
      "<class 'netCDF4._netCDF4.Variable'>\n",
      "float64 LANDFRAC_PFT(lat, lon)\n",
      "    _FillValue: nan\n",
      "    units: unitless\n",
      "    long_name: land fraction from pft dataset\n",
      "    standard_name: land fraction from pft dataset\n",
      "unlimited dimensions: \n",
      "current shape = (6, 4)\n",
      "filling on\n",
      "<class 'netCDF4._netCDF4.Variable'>\n",
      "int64 PFTDATA_MASK(lat, lon)\n",
      "    units: unitless\n",
      "    long_name: land mask from pft dataset, indicative of real/fake pos\n",
      "    standard_name: land mask from pft dataset, indicative of real/fake pos\n",
      "unlimited dimensions: \n",
      "current shape = (6, 4)\n",
      "filling on, default _FillValue of -9223372036854775806 used\n",
      "<class 'netCDF4._netCDF4.Variable'>\n",
      "float64 PCT_NATVEG(lat, lon)\n",
      "    _FillValue: nan\n",
      "    units: unitless\n",
      "    long_name: total percent natural vegetation landunit\n",
      "    standard_name: total percent natural vegetation landunit\n",
      "unlimited dimensions: \n",
      "current shape = (6, 4)\n",
      "filling on\n",
      "<class 'netCDF4._netCDF4.Variable'>\n",
      "float64 PCT_CROP(lat, lon)\n",
      "    _FillValue: nan\n",
      "    units: unitless\n",
      "    long_name: total percent crop landunit\n",
      "    standard_name: total percent crop landunit\n",
      "unlimited dimensions: \n",
      "current shape = (6, 4)\n",
      "filling on\n",
      "<class 'netCDF4._netCDF4.Variable'>\n",
      "float64 PCT_NAT_PFT(natpft, lat, lon)\n",
      "    _FillValue: nan\n",
      "    units: unitless\n",
      "    long_name: percent plant functional type on the natural veg landunit (% of landunit)\n",
      "    standard_name: percent plant functional type on the natural veg landunit (% of landunit)\n",
      "unlimited dimensions: \n",
      "current shape = (15, 6, 4)\n",
      "filling on\n",
      "<class 'netCDF4._netCDF4.Variable'>\n",
      "float64 PCT_CFT(cft, lat, lon)\n",
      "    _FillValue: nan\n",
      "    units: unitless\n",
      "    long_name: percent crop functional type on the crop landunit (% of landunit)\n",
      "    standard_name: percent crop functional type on the crop landunit (% of landunit)\n",
      "unlimited dimensions: \n",
      "current shape = (2, 6, 4)\n",
      "filling on\n",
      "<class 'netCDF4._netCDF4.Variable'>\n",
      "float64 MONTHLY_LAI(time, lsmpft, lat, lon)\n",
      "    _FillValue: nan\n",
      "    units: unitless\n",
      "    long_name: monthly leaf area index\n",
      "    standard_name: monthly leaf area index\n",
      "unlimited dimensions: \n",
      "current shape = (12, 17, 6, 4)\n",
      "filling on\n",
      "<class 'netCDF4._netCDF4.Variable'>\n",
      "float64 MONTHLY_SAI(time, lsmpft, lat, lon)\n",
      "    _FillValue: nan\n",
      "    units: unitless\n",
      "    long_name: monthly stem area index\n",
      "    standard_name: monthly stem area index\n",
      "unlimited dimensions: \n",
      "current shape = (12, 17, 6, 4)\n",
      "filling on\n",
      "<class 'netCDF4._netCDF4.Variable'>\n",
      "float64 MONTHLY_HEIGHT_TOP(time, lsmpft, lat, lon)\n",
      "    _FillValue: nan\n",
      "    units: meters\n",
      "    long_name: monthly height top\n",
      "    standard_name: monthly height top\n",
      "unlimited dimensions: \n",
      "current shape = (12, 17, 6, 4)\n",
      "filling on\n",
      "<class 'netCDF4._netCDF4.Variable'>\n",
      "float64 MONTHLY_HEIGHT_BOT(time, lsmpft, lat, lon)\n",
      "    _FillValue: nan\n",
      "    units: meters\n",
      "    long_name: monthly height bottom\n",
      "    standard_name: monthly height bottom\n",
      "unlimited dimensions: \n",
      "current shape = (12, 17, 6, 4)\n",
      "filling on\n",
      "<class 'netCDF4._netCDF4.Variable'>\n",
      "float64 AREA(lat, lon)\n",
      "    _FillValue: nan\n",
      "    units: km^2\n",
      "    long_name: area\n",
      "    standard_name: area\n",
      "unlimited dimensions: \n",
      "current shape = (6, 4)\n",
      "filling on\n",
      "<class 'netCDF4._netCDF4.Variable'>\n",
      "float64 LONGXY(lat, lon)\n",
      "    _FillValue: nan\n",
      "    units: degrees east\n",
      "    long_name: longitude\n",
      "    standard_name: longitude\n",
      "unlimited dimensions: \n",
      "current shape = (6, 4)\n",
      "filling on\n",
      "<class 'netCDF4._netCDF4.Variable'>\n",
      "float64 LATIXY(lat, lon)\n",
      "    _FillValue: nan\n",
      "    units: degrees north\n",
      "    long_name: latitude\n",
      "    standard_name: latitude\n",
      "unlimited dimensions: \n",
      "current shape = (6, 4)\n",
      "filling on\n",
      "<class 'netCDF4._netCDF4.Variable'>\n",
      "float64 EF1_BTR(lat, lon)\n",
      "    _FillValue: nan\n",
      "    units: unitless\n",
      "    long_name: EF btr (isoprene)\n",
      "    standard_name: EF btr (isoprene)\n",
      "unlimited dimensions: \n",
      "current shape = (6, 4)\n",
      "filling on\n",
      "<class 'netCDF4._netCDF4.Variable'>\n",
      "float64 EF1_FET(lat, lon)\n",
      "    _FillValue: nan\n",
      "    units: unitless\n",
      "    long_name: EF fet (isoprene)\n",
      "    standard_name: EF fet (isoprene)\n",
      "unlimited dimensions: \n",
      "current shape = (6, 4)\n",
      "filling on\n",
      "<class 'netCDF4._netCDF4.Variable'>\n",
      "float64 EF1_FDT(lat, lon)\n",
      "    _FillValue: nan\n",
      "    units: unitless\n",
      "    long_name: EF fdt (isoprene)\n",
      "    standard_name: EF fdt (isoprene)\n",
      "unlimited dimensions: \n",
      "current shape = (6, 4)\n",
      "filling on\n",
      "<class 'netCDF4._netCDF4.Variable'>\n",
      "float64 EF1_SHR(lat, lon)\n",
      "    _FillValue: nan\n",
      "    units: unitless\n",
      "    long_name: EF shr (isoprene)\n",
      "    standard_name: EF shr (isoprene)\n",
      "unlimited dimensions: \n",
      "current shape = (6, 4)\n",
      "filling on\n",
      "<class 'netCDF4._netCDF4.Variable'>\n",
      "float64 EF1_GRS(lat, lon)\n",
      "    _FillValue: nan\n",
      "    units: unitless\n",
      "    long_name: EF grs (isoprene)\n",
      "    standard_name: EF grs (isoprene)\n",
      "unlimited dimensions: \n",
      "current shape = (6, 4)\n",
      "filling on\n",
      "<class 'netCDF4._netCDF4.Variable'>\n",
      "float64 EF1_CRP(lat, lon)\n",
      "    _FillValue: nan\n",
      "    units: unitless\n",
      "    long_name: EF crp (isoprene)\n",
      "    standard_name: EF crp (isoprene)\n",
      "unlimited dimensions: \n",
      "current shape = (6, 4)\n",
      "filling on\n",
      "<class 'netCDF4._netCDF4.Variable'>\n",
      "float64 CANYON_HWR(numurbl, lat, lon)\n",
      "    _FillValue: nan\n",
      "    units: unitless\n",
      "    long_name: canyon height to width ratio\n",
      "    standard_name: canyon height to width ratio\n",
      "unlimited dimensions: \n",
      "current shape = (3, 6, 4)\n",
      "filling on\n",
      "<class 'netCDF4._netCDF4.Variable'>\n",
      "float64 EM_IMPROAD(numurbl, lat, lon)\n",
      "    _FillValue: nan\n",
      "    units: unitless\n",
      "    long_name: emissivity of impervious road\n",
      "    standard_name: emissivity of impervious road\n",
      "unlimited dimensions: \n",
      "current shape = (3, 6, 4)\n",
      "filling on\n",
      "<class 'netCDF4._netCDF4.Variable'>\n",
      "float64 EM_PERROAD(numurbl, lat, lon)\n",
      "    _FillValue: nan\n",
      "    units: unitless\n",
      "    long_name: emissivity of pervious road\n",
      "    standard_name: emissivity of pervious road\n",
      "unlimited dimensions: \n",
      "current shape = (3, 6, 4)\n",
      "filling on\n",
      "<class 'netCDF4._netCDF4.Variable'>\n",
      "float64 EM_ROOF(numurbl, lat, lon)\n",
      "    _FillValue: nan\n",
      "    units: unitless\n",
      "    long_name: emissivity of roof\n",
      "    standard_name: emissivity of roof\n",
      "unlimited dimensions: \n",
      "current shape = (3, 6, 4)\n",
      "filling on\n",
      "<class 'netCDF4._netCDF4.Variable'>\n",
      "float64 EM_WALL(numurbl, lat, lon)\n",
      "    _FillValue: nan\n",
      "    units: unitless\n",
      "    long_name: emissivity of wall\n",
      "    standard_name: emissivity of wall\n",
      "unlimited dimensions: \n",
      "current shape = (3, 6, 4)\n",
      "filling on\n",
      "<class 'netCDF4._netCDF4.Variable'>\n",
      "float64 HT_ROOF(numurbl, lat, lon)\n",
      "    _FillValue: nan\n",
      "    units: meters\n",
      "    long_name: height of roof\n",
      "    standard_name: height of roof\n",
      "unlimited dimensions: \n",
      "current shape = (3, 6, 4)\n",
      "filling on\n",
      "<class 'netCDF4._netCDF4.Variable'>\n",
      "float64 THICK_ROOF(numurbl, lat, lon)\n",
      "    _FillValue: nan\n",
      "    units: meters\n",
      "    long_name: thickness of roof\n",
      "    standard_name: thickness of roof\n",
      "unlimited dimensions: \n",
      "current shape = (3, 6, 4)\n",
      "filling on\n",
      "<class 'netCDF4._netCDF4.Variable'>\n",
      "float64 THICK_WALL(numurbl, lat, lon)\n",
      "    _FillValue: nan\n",
      "    units: meters\n",
      "    long_name: thickness of wall\n",
      "    standard_name: thickness of wall\n",
      "unlimited dimensions: \n",
      "current shape = (3, 6, 4)\n",
      "filling on\n",
      "<class 'netCDF4._netCDF4.Variable'>\n",
      "float64 T_BUILDING_MIN(numurbl, lat, lon)\n",
      "    _FillValue: nan\n",
      "    units: K\n",
      "    long_name: minimum erior building temperature\n",
      "    standard_name: minimum erior building temperature\n",
      "unlimited dimensions: \n",
      "current shape = (3, 6, 4)\n",
      "filling on\n",
      "<class 'netCDF4._netCDF4.Variable'>\n",
      "float64 WIND_HGT_CANYON(numurbl, lat, lon)\n",
      "    _FillValue: nan\n",
      "    units: meters\n",
      "    long_name: height of wind in canyon\n",
      "    standard_name: height of wind in canyon\n",
      "unlimited dimensions: \n",
      "current shape = (3, 6, 4)\n",
      "filling on\n",
      "<class 'netCDF4._netCDF4.Variable'>\n",
      "float64 WTLUNIT_ROOF(numurbl, lat, lon)\n",
      "    _FillValue: nan\n",
      "    units: unitless\n",
      "    long_name: fraction of roof\n",
      "    standard_name: fraction of roof\n",
      "unlimited dimensions: \n",
      "current shape = (3, 6, 4)\n",
      "filling on\n",
      "<class 'netCDF4._netCDF4.Variable'>\n",
      "float64 WTROAD_PERV(numurbl, lat, lon)\n",
      "    _FillValue: nan\n",
      "    units: unitless\n",
      "    long_name: fraction of pervious road\n",
      "    standard_name: fraction of pervious road\n",
      "unlimited dimensions: \n",
      "current shape = (3, 6, 4)\n",
      "filling on\n",
      "<class 'netCDF4._netCDF4.Variable'>\n",
      "float64 ALB_IMPROAD_DIR(numrad, numurbl, lat, lon)\n",
      "    _FillValue: nan\n",
      "    units: unitless\n",
      "    long_name: direct albedo of impervious road\n",
      "    standard_name: direct albedo of impervious road\n",
      "unlimited dimensions: \n",
      "current shape = (2, 3, 6, 4)\n",
      "filling on\n",
      "<class 'netCDF4._netCDF4.Variable'>\n",
      "float64 ALB_IMPROAD_DIF(numrad, numurbl, lat, lon)\n",
      "    _FillValue: nan\n",
      "    units: unitless\n",
      "    long_name: diffuse albedo of impervious road\n",
      "    standard_name: diffuse albedo of impervious road\n",
      "unlimited dimensions: \n",
      "current shape = (2, 3, 6, 4)\n",
      "filling on\n",
      "<class 'netCDF4._netCDF4.Variable'>\n",
      "float64 ALB_PERROAD_DIR(numrad, numurbl, lat, lon)\n",
      "    _FillValue: nan\n",
      "    units: unitless\n",
      "    long_name: direct albedo of pervious road\n",
      "    standard_name: direct albedo of pervious road\n",
      "unlimited dimensions: \n",
      "current shape = (2, 3, 6, 4)\n",
      "filling on\n",
      "<class 'netCDF4._netCDF4.Variable'>\n",
      "float64 ALB_PERROAD_DIF(numrad, numurbl, lat, lon)\n",
      "    _FillValue: nan\n",
      "    units: unitless\n",
      "    long_name: diffuse albedo of pervious road\n",
      "    standard_name: diffuse albedo of pervious road\n",
      "unlimited dimensions: \n",
      "current shape = (2, 3, 6, 4)\n",
      "filling on\n",
      "<class 'netCDF4._netCDF4.Variable'>\n",
      "float64 ALB_ROOF_DIR(numrad, numurbl, lat, lon)\n",
      "    _FillValue: nan\n",
      "    units: unitless\n",
      "    long_name: direct albedo of roof\n",
      "    standard_name: direct albedo of roof\n",
      "unlimited dimensions: \n",
      "current shape = (2, 3, 6, 4)\n",
      "filling on\n",
      "<class 'netCDF4._netCDF4.Variable'>\n",
      "float64 ALB_ROOF_DIF(numrad, numurbl, lat, lon)\n",
      "    _FillValue: nan\n",
      "    units: unitless\n",
      "    long_name: diffuse albedo of roof\n",
      "    standard_name: diffuse albedo of roof\n",
      "unlimited dimensions: \n",
      "current shape = (2, 3, 6, 4)\n",
      "filling on\n",
      "<class 'netCDF4._netCDF4.Variable'>\n",
      "float64 ALB_WALL_DIR(numrad, numurbl, lat, lon)\n",
      "    _FillValue: nan\n",
      "    units: unitless\n",
      "    long_name: direct albedo of wall\n",
      "    standard_name: direct albedo of wall\n",
      "unlimited dimensions: \n",
      "current shape = (2, 3, 6, 4)\n",
      "filling on\n",
      "<class 'netCDF4._netCDF4.Variable'>\n",
      "float64 ALB_WALL_DIF(numrad, numurbl, lat, lon)\n",
      "    _FillValue: nan\n",
      "    units: unitless\n",
      "    long_name: diffuse albedo of wall\n",
      "    standard_name: diffuse albedo of wall\n",
      "unlimited dimensions: \n",
      "current shape = (2, 3, 6, 4)\n",
      "filling on\n",
      "<class 'netCDF4._netCDF4.Variable'>\n",
      "float64 TK_ROOF(nlevurb, numurbl, lat, lon)\n",
      "    _FillValue: nan\n",
      "    units: W/m*K\n",
      "    long_name: thermal conductivity of roof\n",
      "    standard_name: thermal conductivity of roof\n",
      "unlimited dimensions: \n",
      "current shape = (5, 3, 6, 4)\n",
      "filling on\n",
      "<class 'netCDF4._netCDF4.Variable'>\n",
      "float64 TK_WALL(nlevurb, numurbl, lat, lon)\n",
      "    _FillValue: nan\n",
      "    units: W/m*K\n",
      "    long_name: thermal conductivity of wall\n",
      "    standard_name: thermal conductivity of wall\n",
      "unlimited dimensions: \n",
      "current shape = (5, 3, 6, 4)\n",
      "filling on\n",
      "<class 'netCDF4._netCDF4.Variable'>\n",
      "float64 TK_IMPROAD(nlevurb, numurbl, lat, lon)\n",
      "    _FillValue: nan\n",
      "    units: W/m*K\n",
      "    long_name: thermal conductivity of impervious road\n",
      "    standard_name: thermal conductivity of impervious road\n",
      "unlimited dimensions: \n",
      "current shape = (5, 3, 6, 4)\n",
      "filling on\n",
      "<class 'netCDF4._netCDF4.Variable'>\n",
      "float64 CV_ROOF(nlevurb, numurbl, lat, lon)\n",
      "    _FillValue: nan\n",
      "    units: J/m^3*K\n",
      "    long_name: volumetric heat capacity of roof\n",
      "    standard_name: volumetric heat capacity of roof\n",
      "unlimited dimensions: \n",
      "current shape = (5, 3, 6, 4)\n",
      "filling on\n",
      "<class 'netCDF4._netCDF4.Variable'>\n",
      "float64 CV_WALL(nlevurb, numurbl, lat, lon)\n",
      "    _FillValue: nan\n",
      "    units: J/m^3*K\n",
      "    long_name: volumetric heat capacity of wall\n",
      "    standard_name: volumetric heat capacity of wall\n",
      "unlimited dimensions: \n",
      "current shape = (5, 3, 6, 4)\n",
      "filling on\n",
      "<class 'netCDF4._netCDF4.Variable'>\n",
      "float64 CV_IMPROAD(nlevurb, numurbl, lat, lon)\n",
      "    _FillValue: nan\n",
      "    units: J/m^3*K\n",
      "    long_name: volumetric heat capacity of impervious road\n",
      "    standard_name: volumetric heat capacity of impervious road\n",
      "unlimited dimensions: \n",
      "current shape = (5, 3, 6, 4)\n",
      "filling on\n",
      "<class 'netCDF4._netCDF4.Variable'>\n",
      "int64 NLEV_IMPROAD(numurbl, lat, lon)\n",
      "    units: unitless\n",
      "    long_name: number of impervious road layers\n",
      "    standard_name: number of impervious road layers\n",
      "unlimited dimensions: \n",
      "current shape = (3, 6, 4)\n",
      "filling on, default _FillValue of -9223372036854775806 used\n",
      "<class 'netCDF4._netCDF4.Variable'>\n",
      "float64 peatf(lat, lon)\n",
      "    _FillValue: nan\n",
      "    units: unitless\n",
      "    long_name: peatland fraction\n",
      "    standard_name: peatland fraction\n",
      "unlimited dimensions: \n",
      "current shape = (6, 4)\n",
      "filling on\n",
      "<class 'netCDF4._netCDF4.Variable'>\n",
      "float64 zbedrock(lat, lon)\n",
      "    _FillValue: nan\n",
      "    units: m\n",
      "    long_name: soil depth\n",
      "    standard_name: soil depth\n",
      "unlimited dimensions: \n",
      "current shape = (6, 4)\n",
      "filling on\n",
      "<class 'netCDF4._netCDF4.Variable'>\n",
      "int64 abm(lat, lon)\n",
      "    units: unitless\n",
      "    long_name: agricultural fire peak month\n",
      "    standard_name: agricultural fire peak month\n",
      "unlimited dimensions: \n",
      "current shape = (6, 4)\n",
      "filling on, default _FillValue of -9223372036854775806 used\n",
      "<class 'netCDF4._netCDF4.Variable'>\n",
      "float64 gdp(lat, lon)\n",
      "    _FillValue: nan\n",
      "    units: unitless\n",
      "    long_name: gdp\n",
      "    standard_name: gdp\n",
      "unlimited dimensions: \n",
      "current shape = (6, 4)\n",
      "filling on\n",
      "<class 'netCDF4._netCDF4.Variable'>\n",
      "float64 SLOPE(lat, lon)\n",
      "    _FillValue: nan\n",
      "    units: degrees\n",
      "    long_name: mean topographic slope\n",
      "    standard_name: mean topographic slope\n",
      "unlimited dimensions: \n",
      "current shape = (6, 4)\n",
      "filling on\n",
      "<class 'netCDF4._netCDF4.Variable'>\n",
      "float64 STD_ELEV(lat, lon)\n",
      "    _FillValue: nan\n",
      "    units: m\n",
      "    long_name: standard deviation of elevation\n",
      "    standard_name: standard deviation of elevation\n",
      "unlimited dimensions: \n",
      "current shape = (6, 4)\n",
      "filling on\n",
      "<class 'netCDF4._netCDF4.Variable'>\n",
      "float64 LAKEDEPTH(lat, lon)\n",
      "    _FillValue: nan\n",
      "    units: m\n",
      "    long_name: lake depth\n",
      "    standard_name: lake depth\n",
      "unlimited dimensions: \n",
      "current shape = (6, 4)\n",
      "filling on\n",
      "<class 'netCDF4._netCDF4.Variable'>\n",
      "float64 PCT_WETLAND(lat, lon)\n",
      "    _FillValue: nan\n",
      "    units: unitless\n",
      "    long_name: percent wetland\n",
      "    standard_name: percent wetland\n",
      "unlimited dimensions: \n",
      "current shape = (6, 4)\n",
      "filling on\n",
      "<class 'netCDF4._netCDF4.Variable'>\n",
      "float64 PCT_LAKE(lat, lon)\n",
      "    _FillValue: nan\n",
      "    units: unitless\n",
      "    long_name: percent lake\n",
      "    standard_name: percent lake\n",
      "unlimited dimensions: \n",
      "current shape = (6, 4)\n",
      "filling on\n",
      "<class 'netCDF4._netCDF4.Variable'>\n",
      "float64 PCT_GLACIER(lat, lon)\n",
      "    _FillValue: nan\n",
      "    units: unitless\n",
      "    long_name: percent glacier\n",
      "    standard_name: percent glacier\n",
      "unlimited dimensions: \n",
      "current shape = (6, 4)\n",
      "filling on\n",
      "<class 'netCDF4._netCDF4.Variable'>\n",
      "float64 GLACIER_REGION(lat, lon)\n",
      "    _FillValue: nan\n",
      "    units: unitless\n",
      "    long_name: glacier region ID\n",
      "    standard_name: glacier region ID\n",
      "unlimited dimensions: \n",
      "current shape = (6, 4)\n",
      "filling on\n",
      "<class 'netCDF4._netCDF4.Variable'>\n",
      "float64 GLC_MEC(nglcecp1)\n",
      "    _FillValue: nan\n",
      "    units: m\n",
      "    long_name: Glacier elevation class\n",
      "    standard_name: Glacier elevation class\n",
      "unlimited dimensions: \n",
      "current shape = (11,)\n",
      "filling on\n",
      "<class 'netCDF4._netCDF4.Variable'>\n",
      "float64 PCT_GLC_MEC(nglcec, lat, lon)\n",
      "    _FillValue: nan\n",
      "    units: unitless\n",
      "    long_name: percent glacier for each glacier elevation class (% of landunit)\n",
      "    standard_name: percent glacier for each glacier elevation class (% of landunit)\n",
      "unlimited dimensions: \n",
      "current shape = (10, 6, 4)\n",
      "filling on\n",
      "<class 'netCDF4._netCDF4.Variable'>\n",
      "float64 TOPO_GLC_MEC(nglcec, lat, lon)\n",
      "    _FillValue: nan\n",
      "    units: m\n",
      "    long_name: mean elevation on glacier elevation classes\n",
      "    standard_name: mean elevation on glacier elevation classes\n",
      "unlimited dimensions: \n",
      "current shape = (10, 6, 4)\n",
      "filling on\n",
      "<class 'netCDF4._netCDF4.Variable'>\n",
      "float64 PCT_URBAN(numurbl, lat, lon)\n",
      "    _FillValue: nan\n",
      "    units: unitless\n",
      "    long_name: percent urban for each density type\n",
      "    standard_name: percent urban for each density type\n",
      "unlimited dimensions: \n",
      "current shape = (3, 6, 4)\n",
      "filling on\n",
      "<class 'netCDF4._netCDF4.Variable'>\n",
      "int64 URBAN_REGION_ID(lat, lon)\n",
      "    units: unitless\n",
      "    long_name: urban region ID\n",
      "    standard_name: urban region ID\n",
      "unlimited dimensions: \n",
      "current shape = (6, 4)\n",
      "filling on, default _FillValue of -9223372036854775806 used\n",
      "<class 'netCDF4._netCDF4.Variable'>\n",
      "float64 CONST_HARVEST_VH1(lat, lon)\n",
      "    _FillValue: nan\n",
      "    units: gC/m2/yr\n",
      "    long_name: harvest from primary forest\n",
      "    standard_name: harvest from primary forest\n",
      "unlimited dimensions: \n",
      "current shape = (6, 4)\n",
      "filling on\n",
      "<class 'netCDF4._netCDF4.Variable'>\n",
      "float64 CONST_HARVEST_VH2(lat, lon)\n",
      "    _FillValue: nan\n",
      "    units: gC/m2/yr\n",
      "    long_name: harvest from primary non-forest\n",
      "    standard_name: harvest from primary non-forest\n",
      "unlimited dimensions: \n",
      "current shape = (6, 4)\n",
      "filling on\n",
      "<class 'netCDF4._netCDF4.Variable'>\n",
      "float64 CONST_HARVEST_SH1(lat, lon)\n",
      "    _FillValue: nan\n",
      "    units: gC/m2/yr\n",
      "    long_name: harvest from secondary mature-forest\n",
      "    standard_name: harvest from secondary mature-forest\n",
      "unlimited dimensions: \n",
      "current shape = (6, 4)\n",
      "filling on\n",
      "<class 'netCDF4._netCDF4.Variable'>\n",
      "float64 CONST_HARVEST_SH2(lat, lon)\n",
      "    _FillValue: nan\n",
      "    units: gC/m2/yr\n",
      "    long_name: harvest from secondary young-forest\n",
      "    standard_name: harvest from secondary young-forest\n",
      "unlimited dimensions: \n",
      "current shape = (6, 4)\n",
      "filling on\n",
      "<class 'netCDF4._netCDF4.Variable'>\n",
      "float64 CONST_HARVEST_SH3(lat, lon)\n",
      "    _FillValue: nan\n",
      "    units: gC/m2/yr\n",
      "    long_name: harvest from secondary non-forest\n",
      "    standard_name: harvest from secondary non-forest\n",
      "unlimited dimensions: \n",
      "current shape = (6, 4)\n",
      "filling on\n",
      "<class 'netCDF4._netCDF4.Variable'>\n",
      "float64 CONST_GRAZING(lat, lon)\n",
      "    _FillValue: nan\n",
      "    units: gC/m2/yr\n",
      "    long_name: grazing of herbacous pfts\n",
      "    standard_name: grazing of herbacous pfts\n",
      "unlimited dimensions: \n",
      "current shape = (6, 4)\n",
      "filling on\n",
      "<class 'netCDF4._netCDF4.Variable'>\n",
      "float64 CONST_FERTNITRO_CFT(cft, lat, lon)\n",
      "    _FillValue: nan\n",
      "    units: gN/m2/yr\n",
      "    long_name: nitrogen fertilizer for each crop\n",
      "    standard_name: nitrogen fertilizer for each crop\n",
      "unlimited dimensions: \n",
      "current shape = (2, 6, 4)\n",
      "filling on\n",
      "<class 'netCDF4._netCDF4.Variable'>\n",
      "float64 UNREPRESENTED_PFT_LULCC(natpft, lat, lon)\n",
      "    _FillValue: nan\n",
      "    units: unitless\n",
      "    long_name: unrepresented PFT gross LULCC transitions\n",
      "    standard_name: unrepresented PFT gross LULCC transitions\n",
      "unlimited dimensions: \n",
      "current shape = (15, 6, 4)\n",
      "filling on\n",
      "<class 'netCDF4._netCDF4.Variable'>\n",
      "float64 UNREPRESENTED_CFT_LULCC(cft, lat, lon)\n",
      "    _FillValue: nan\n",
      "    units: unitless\n",
      "    long_name: unrepresented crop gross LULCC transitions\n",
      "    standard_name: unrepresented crop gross LULCC transitions\n",
      "unlimited dimensions: \n",
      "current shape = (2, 6, 4)\n",
      "filling on\n",
      "<class 'netCDF4._netCDF4.Variable'>\n",
      "float64 lat(lat)\n",
      "    _FillValue: nan\n",
      "    units: degrees_north\n",
      "    standard_name: latitude\n",
      "    long_name: latitude coordinate\n",
      "    axis: Y\n",
      "unlimited dimensions: \n",
      "current shape = (6,)\n",
      "filling on\n",
      "<class 'netCDF4._netCDF4.Variable'>\n",
      "float64 lon(lon)\n",
      "    _FillValue: nan\n",
      "    units: degrees_east\n",
      "    standard_name: longitude\n",
      "    long_name: longitude coordinate\n",
      "    axis: X\n",
      "unlimited dimensions: \n",
      "current shape = (4,)\n",
      "filling on\n",
      "<class 'netCDF4._netCDF4.Variable'>\n",
      "int64 levsoi(levsoi)\n",
      "    long_name: Vertical soil layer\n",
      "    standard_name: Vertical soil layer\n",
      "unlimited dimensions: \n",
      "current shape = (10,)\n",
      "filling on, default _FillValue of -9223372036854775806 used\n",
      "<class 'netCDF4._netCDF4.Variable'>\n",
      "int64 natpft(natpft)\n",
      "    units: index\n",
      "    long_name: indices of natural PFTs\n",
      "    standard_name: indices of natural PFTs\n",
      "unlimited dimensions: \n",
      "current shape = (15,)\n",
      "filling on, default _FillValue of -9223372036854775806 used\n",
      "<class 'netCDF4._netCDF4.Variable'>\n",
      "int64 cft(cft)\n",
      "    units: index\n",
      "    long_name: indices of CFTs\n",
      "    standard_name: indices of CFTs\n",
      "unlimited dimensions: \n",
      "current shape = (2,)\n",
      "filling on, default _FillValue of -9223372036854775806 used\n",
      "<class 'netCDF4._netCDF4.Variable'>\n",
      "int64 time(time)\n",
      "    units: month\n",
      "    long_name: Calendar month\n",
      "    standard_name: Calendar month\n",
      "unlimited dimensions: \n",
      "current shape = (12,)\n",
      "filling on, default _FillValue of -9223372036854775806 used\n",
      "<class 'netCDF4._netCDF4.Variable'>\n",
      "int64 lsmpft(lsmpft)\n",
      "    long_name: plant functional type\n",
      "    standard_name: plant functional type\n",
      "unlimited dimensions: \n",
      "current shape = (17,)\n",
      "filling on, default _FillValue of -9223372036854775806 used\n",
      "<class 'netCDF4._netCDF4.Variable'>\n",
      "int64 numurbl(numurbl)\n",
      "    standard_name: Urban density class\n",
      "    long_name: Urban density class\n",
      "unlimited dimensions: \n",
      "current shape = (3,)\n",
      "filling on, default _FillValue of -9223372036854775806 used\n",
      "<class 'netCDF4._netCDF4.Variable'>\n",
      "int64 numrad(numrad)\n",
      "    long_name: wavebands\n",
      "    standard_name: wavebands\n",
      "unlimited dimensions: \n",
      "current shape = (2,)\n",
      "filling on, default _FillValue of -9223372036854775806 used\n",
      "<class 'netCDF4._netCDF4.Variable'>\n",
      "int64 nlevurb(nlevurb)\n",
      "    long_name: urban layer\n",
      "    standard_name: urban layer\n",
      "unlimited dimensions: \n",
      "current shape = (5,)\n",
      "filling on, default _FillValue of -9223372036854775806 used\n",
      "<class 'netCDF4._netCDF4.Variable'>\n",
      "int64 nglcecp1(nglcecp1)\n",
      "unlimited dimensions: \n",
      "current shape = (11,)\n",
      "filling on, default _FillValue of -9223372036854775806 used\n",
      "<class 'netCDF4._netCDF4.Variable'>\n",
      "int64 nglcec(nglcec)\n",
      "    standard_name: Glacier elevation classes\n",
      "    long_name: Glacier elevation classes\n",
      "unlimited dimensions: \n",
      "current shape = (10,)\n",
      "filling on, default _FillValue of -9223372036854775806 used\n"
     ]
    },
    {
     "name": "stderr",
     "output_type": "stream",
     "text": [
      "<ipython-input-11-f27cf27a8065>:2: DeprecationWarning: tostring() is deprecated. Use tobytes() instead.\n",
      "  print(var)\n"
     ]
    }
   ],
   "source": [
    "for var in ds.variables.values():\n",
    "    print(var)"
   ]
  },
  {
   "cell_type": "markdown",
   "metadata": {},
   "source": [
    "### Access information for a specific variable"
   ]
  },
  {
   "cell_type": "code",
   "execution_count": 12,
   "metadata": {},
   "outputs": [
    {
     "name": "stdout",
     "output_type": "stream",
     "text": [
      "<class 'netCDF4._netCDF4.Variable'>\n",
      "float64 PCT_SAND(levsoi, lat, lon)\n",
      "    _FillValue: nan\n",
      "    units: unitless\n",
      "    long_name: percent sand\n",
      "    standard_name: percent sand\n",
      "unlimited dimensions: \n",
      "current shape = (10, 6, 4)\n",
      "filling on\n"
     ]
    },
    {
     "name": "stderr",
     "output_type": "stream",
     "text": [
      "<ipython-input-12-6e42d15c38b0>:1: DeprecationWarning: tostring() is deprecated. Use tobytes() instead.\n",
      "  print(ds['PCT_SAND'])\n"
     ]
    }
   ],
   "source": [
    "print(ds['PCT_SAND'])"
   ]
  },
  {
   "cell_type": "markdown",
   "metadata": {},
   "source": [
    "### Retrieving data from the dataset by `array indexing`"
   ]
  },
  {
   "cell_type": "code",
   "execution_count": 13,
   "metadata": {},
   "outputs": [],
   "source": [
    "Soil_color = ds['SOIL_COLOR'][:]"
   ]
  },
  {
   "cell_type": "code",
   "execution_count": 14,
   "metadata": {},
   "outputs": [
    {
     "data": {
      "text/plain": [
       "(6, 4)"
      ]
     },
     "execution_count": 14,
     "metadata": {},
     "output_type": "execute_result"
    }
   ],
   "source": [
    "Soil_color.shape"
   ]
  },
  {
   "cell_type": "markdown",
   "metadata": {},
   "source": [
    "### To view the values"
   ]
  },
  {
   "cell_type": "code",
   "execution_count": 15,
   "metadata": {},
   "outputs": [
    {
     "data": {
      "text/plain": [
       "masked_array(\n",
       "  data=[[18, 18, 15, 16],\n",
       "        [15, 17, 13, 15],\n",
       "        [15, 15, 15, 18],\n",
       "        [15, 15, 14, 15],\n",
       "        [15, 15, 10, 14],\n",
       "        [16, 14, 13, 14]],\n",
       "  mask=False,\n",
       "  fill_value=999999)"
      ]
     },
     "execution_count": 15,
     "metadata": {},
     "output_type": "execute_result"
    }
   ],
   "source": [
    "Soil_color[:]"
   ]
  },
  {
   "cell_type": "code",
   "execution_count": 16,
   "metadata": {},
   "outputs": [
    {
     "data": {
      "text/plain": [
       "masked_array(\n",
       "  data=[[18, 18, 15, 16],\n",
       "        [15, 17, 13, 15],\n",
       "        [15, 15, 15, 18],\n",
       "        [15, 15, 14, 15],\n",
       "        [15, 15, 10, 14],\n",
       "        [16, 14, 13, 14]],\n",
       "  mask=False,\n",
       "  fill_value=999999)"
      ]
     },
     "execution_count": 16,
     "metadata": {},
     "output_type": "execute_result"
    }
   ],
   "source": [
    "Soil_color"
   ]
  },
  {
   "cell_type": "markdown",
   "metadata": {},
   "source": [
    "### Subset can be returned"
   ]
  },
  {
   "cell_type": "code",
   "execution_count": 17,
   "metadata": {},
   "outputs": [
    {
     "data": {
      "text/plain": [
       "masked_array(\n",
       "  data=[[18, 18, 15, 16],\n",
       "        [15, 17, 13, 15]],\n",
       "  mask=False,\n",
       "  fill_value=999999)"
      ]
     },
     "execution_count": 17,
     "metadata": {},
     "output_type": "execute_result"
    }
   ],
   "source": [
    "soil_color_sub = Soil_color[0:2]\n",
    "soil_color_sub"
   ]
  },
  {
   "cell_type": "markdown",
   "metadata": {},
   "source": [
    "### Close the dataset"
   ]
  },
  {
   "cell_type": "code",
   "execution_count": 18,
   "metadata": {},
   "outputs": [],
   "source": [
    "ds.close(); print('Dataset is closed!')"
   ]
  },
  {
   "cell_type": "code",
   "execution_count": null,
   "metadata": {},
   "outputs": [],
   "source": []
  }
 ],
 "metadata": {
  "kernelspec": {
   "display_name": "Python 3",
   "language": "python",
   "name": "python3"
  },
  "language_info": {
   "codemirror_mode": {
    "name": "ipython",
    "version": 3
   },
   "file_extension": ".py",
   "mimetype": "text/x-python",
   "name": "python",
   "nbconvert_exporter": "python",
   "pygments_lexer": "ipython3",
   "version": "3.8.5"
  }
 },
 "nbformat": 4,
 "nbformat_minor": 4
}
